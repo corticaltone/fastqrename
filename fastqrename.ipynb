{
 "cells": [
  {
   "cell_type": "code",
   "execution_count": null,
   "metadata": {},
   "outputs": [],
   "source": [
    "#fastqrename will rename DKFZ fastq files to fit bcl2fastq format"
   ]
  },
  {
   "cell_type": "code",
   "execution_count": 2,
   "metadata": {},
   "outputs": [],
   "source": [
    "fastq_dir = \"/Users/tony/fastqrename/fastqs/\"\n",
    "analysis_dir = \"/Users/tony/fastqrename/analysis/\"\n",
    "target_directory = \"/Users/tony/fastqrename/renamedfastqs/\"\n",
    "import os\n",
    "from subprocess import call\n",
    "import csv"
   ]
  },
  {
   "cell_type": "code",
   "execution_count": 8,
   "metadata": {},
   "outputs": [
    {
     "name": "stdout",
     "output_type": "stream",
     "text": [
      "AS-348079-LR-43603_R1.fastq.gz\n",
      "executing:cp /Users/tony/fastqrename/fastqs/AS-348079-LR-43603_R1.fastq.gz /Users/tony/fastqrename/renamedfastqs/AS-348079-Tumor04_6_L002_R1.fastq.gz\n",
      "AS-348079-Tumor04_6_L002_R1.fastq.gz successfully saved\n",
      "AS-348081-LR-43602_R2.fastq.gz\n",
      "executing:cp /Users/tony/fastqrename/fastqs/AS-348081-LR-43602_R2.fastq.gz /Users/tony/fastqrename/renamedfastqs/AS-348081-Tumor04_6_L001_R2.fastq.gz\n",
      "AS-348081-Tumor04_6_L001_R2.fastq.gz successfully saved\n",
      "AS-348081-LR-43602_R1.fastq.gz\n",
      "executing:cp /Users/tony/fastqrename/fastqs/AS-348081-LR-43602_R1.fastq.gz /Users/tony/fastqrename/renamedfastqs/AS-348081-Tumor04_6_L001_R1.fastq.gz\n",
      "AS-348081-Tumor04_6_L001_R1.fastq.gz successfully saved\n",
      "3 files saved\n"
     ]
    }
   ],
   "source": [
    "# Read sample table, make sample dictionary of identifier/sample number pairs\n",
    "with open('/Users/tony/fastqrename/15051-resultData.csv', mode='r') as csv_file:\n",
    "    sampleNo_dict = {}\n",
    "    sampleName_dict = {}\n",
    "    csv_reader = csv.DictReader(csv_file)\n",
    "    for row in csv_reader:\n",
    "        sampleNo_dict[row['\\ufeffIdentifier'][:9]] = row['Protocol']\n",
    "        sampleName_dict[row['Protocol']] = row['Sample Name']\n",
    "\n",
    "# Read filenames\n",
    "file_list = os.listdir(fastq_dir)\n",
    "\n",
    "#extract sample and run data, copy renamed file\n",
    "lane_dict = {'LR-43602':'L001', 'LR-43603':'L002'}\n",
    "file_count = 0\n",
    "for file in file_list:\n",
    "    sObject = slice(-1,-9,-1)\n",
    "    file_end = file[sObject]\n",
    "    if file_end == 'zg.qtsaf':\n",
    "        print (file)\n",
    "        sample_ID = file[:10]\n",
    "        sample_number = sampleNo_dict[sample_ID[:9]]\n",
    "        sample_name = sampleName_dict[sample_number]\n",
    "        lane = file[10:18]\n",
    "        lane_number = lane_dict[lane]\n",
    "        format_file = sample_ID+sample_name+\"_\"+sample_number+\"_\"+lane_number+\"_\"+file[-11:]\n",
    "        command = \"cp \"+fastq_dir+file+\" \"+target_directory+format_file\n",
    "        print(\"executing:\"+command)\n",
    "        os.system(command)\n",
    "        print(format_file+\" successfully saved\")\n",
    "        file_count += 1\n",
    "print(str(file_count)+\" files saved\")\n",
    "\n"
   ]
  },
  {
   "cell_type": "code",
   "execution_count": 83,
   "metadata": {},
   "outputs": [
    {
     "name": "stdout",
     "output_type": "stream",
     "text": [
      "{'AS-34803': '1', 'AS-34804': '2', 'AS-34805': '4', 'AS-34806': '5', 'AS-34807': '6', 'AS-34808': '7', 'AS-34809': '9', 'AS-34810': '10', 'AS-34811': '11', 'AS-34812': '12'}\n"
     ]
    }
   ],
   "source": []
  },
  {
   "cell_type": "code",
   "execution_count": null,
   "metadata": {},
   "outputs": [],
   "source": []
  },
  {
   "cell_type": "code",
   "execution_count": null,
   "metadata": {},
   "outputs": [],
   "source": []
  }
 ],
 "metadata": {
  "kernelspec": {
   "display_name": "Python 3",
   "language": "python",
   "name": "python3"
  },
  "language_info": {
   "codemirror_mode": {
    "name": "ipython",
    "version": 3
   },
   "file_extension": ".py",
   "mimetype": "text/x-python",
   "name": "python",
   "nbconvert_exporter": "python",
   "pygments_lexer": "ipython3",
   "version": "3.7.3"
  }
 },
 "nbformat": 4,
 "nbformat_minor": 2
}
